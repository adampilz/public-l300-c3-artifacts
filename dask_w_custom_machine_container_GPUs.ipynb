{
 "cells": [
  {
   "cell_type": "code",
   "execution_count": null,
   "id": "2ede2743-d287-4765-991c-d7fefe8a3fa5",
   "metadata": {},
   "outputs": [],
   "source": [
    "################################################################################\n",
    "#\n",
    "# vertex pipeline: dask in vertex pipelines on custom machine type/size\n",
    "#\n",
    "################################################################################"
   ]
  },
  {
   "cell_type": "code",
   "execution_count": 2,
   "id": "9e6a48e3-4c6f-4820-93be-c9b91b21197b",
   "metadata": {},
   "outputs": [],
   "source": [
    "# imports\n",
    "import google.cloud.aiplatform as aiplatform\n",
    "from datetime import datetime\n",
    "from typing import NamedTuple\n",
    "from kfp import dsl\n",
    "from kfp.v2 import compiler\n",
    "from kfp.v2.dsl import (Artifact, Dataset, Input, Metrics, Model, Output, component)"
   ]
  },
  {
   "cell_type": "code",
   "execution_count": 4,
   "id": "d43f3b52-8672-43d6-962e-01410a49c7e9",
   "metadata": {},
   "outputs": [],
   "source": [
    "# project variables\n",
    "PROJECT_ID = \"your-project\"\n",
    "REGION = \"us-central1\"\n",
    "BUCKET_NAME = f\"bkt-{PROJECT_ID}\"\n",
    "BUCKET_URI = f\"gs://{BUCKET_NAME}\""
   ]
  },
  {
   "cell_type": "code",
   "execution_count": null,
   "id": "0f6ac920-45fa-4ea2-8d06-e44954af6f13",
   "metadata": {},
   "outputs": [],
   "source": [
    "#####################################################################\n",
    "#\n",
    "# Components\n",
    "#\n",
    "#####################################################################"
   ]
  },
  {
   "cell_type": "code",
   "execution_count": 43,
   "id": "45347fbb-a84c-4763-bc34-8b2ecfb059dd",
   "metadata": {},
   "outputs": [],
   "source": [
    "#----------------\n",
    "# component 1 - using rapids container image\n",
    "#----------------\n",
    "@component(base_image=\"gcr.io/your-project/mycuda:latest\"\n",
    "           , packages_to_install=[\"google-cloud-bigquery\", \"dask[complete]\"]\n",
    "           , output_component_file=\"step_1.yaml\")\n",
    "def step_1() -> NamedTuple(\"Outputs\", # output parameters and artifacts\n",
    "               [(\"computed_sum\", str), (\"computed_duration\", str)]\n",
    "               ):\n",
    "    # imports\n",
    "    import time\n",
    "    import dask.array as da\n",
    "    \n",
    "    # ops    \n",
    "    start_time = time.time()\n",
    "    x = da.random.random((1000000, 1000000), chunks=(1000, 1000))\n",
    "    s = x.sum().compute()\n",
    "    computed_sum = f\"Sum: {str(s)}\"\n",
    "    end_time = time.time()\n",
    "    elapsed_time = end_time-start_time\n",
    "    computed_duration = f\"Elapsed time: {str(elapsed_time)}\"\n",
    "    return (computed_sum, computed_duration)"
   ]
  },
  {
   "cell_type": "code",
   "execution_count": null,
   "id": "46002d7f-2b3d-4172-8595-118da2a7c721",
   "metadata": {},
   "outputs": [],
   "source": [
    "#####################################################################\n",
    "#\n",
    "# Define Pipeline\n",
    "#\n",
    "#####################################################################"
   ]
  },
  {
   "cell_type": "code",
   "execution_count": 6,
   "id": "5d43ab9f-aca4-42da-9a3b-31824f42129f",
   "metadata": {},
   "outputs": [],
   "source": [
    "TIMESTAMP = datetime.now().strftime(\"%Y%m%d%H%M%S\")\n",
    "BATCH_ID = \"ap-dask-custom-machine-\" + TIMESTAMP\n",
    "DISPLAY_NAME = f\"ap-dask-custom-machine-{TIMESTAMP}\"\n",
    "DESCRIPTION = f\"Demo of running dask in custom machine type {TIMESTAMP}\""
   ]
  },
  {
   "cell_type": "code",
   "execution_count": 7,
   "id": "ae5c33bb-9be7-4e63-afc0-79350fdf081b",
   "metadata": {},
   "outputs": [],
   "source": [
    "# the pipeline\n",
    "@dsl.pipeline(name=DISPLAY_NAME, description=DESCRIPTION)\n",
    "def my_pipeline(\n",
    "    batch_id: str = BATCH_ID,\n",
    "    project: str = PROJECT_ID,\n",
    "    location: str = REGION,\n",
    "):\n",
    "    #------comment out one of the following\n",
    "    # default machine type\n",
    "    #step_1_task = step_1()\n",
    "    # custom machine type\n",
    "    step_1_task = (step_1().set_cpu_limit('96').set_memory_limit('624G'))"
   ]
  },
  {
   "cell_type": "code",
   "execution_count": 51,
   "id": "58fa488f-755e-474e-b82a-70ba970e5be6",
   "metadata": {},
   "outputs": [],
   "source": [
    "# the pipeline\n",
    "@dsl.pipeline(name=DISPLAY_NAME, description=DESCRIPTION)\n",
    "def my_pipeline(\n",
    "    batch_id: str = BATCH_ID,\n",
    "    project: str = PROJECT_ID,\n",
    "    location: str = REGION,\n",
    "):\n",
    "    #------comment out one of the following\n",
    "    # default machine type\n",
    "    #step_1_task = step_1()\n",
    "    # custom machine type\n",
    "    step_1_task = (step_1()\n",
    "                   .set_cpu_limit('16')\n",
    "                   .set_memory_limit('60G')\n",
    "                   .add_node_selector_constraint('cloud.google.com/gke-accelerator', 'NVIDIA_TESLA_P100')\n",
    "                   .set_gpu_limit('1')\n",
    "                  )"
   ]
  },
  {
   "cell_type": "code",
   "execution_count": 9,
   "id": "4eecc2f0-ae14-4498-845b-48c47218fffb",
   "metadata": {},
   "outputs": [],
   "source": [
    "PIPELINE_JSON_PKG_PATH = f\"{DISPLAY_NAME}_json_pkg.json\"\n",
    "\n",
    "# compile the pipeline\n",
    "compiler.Compiler().compile(\n",
    "    pipeline_func=my_pipeline,\n",
    "    package_path=PIPELINE_JSON_PKG_PATH,\n",
    ")"
   ]
  },
  {
   "cell_type": "code",
   "execution_count": 10,
   "id": "04ccf06e-0986-4137-a754-29c9c4dddde6",
   "metadata": {},
   "outputs": [
    {
     "name": "stdout",
     "output_type": "stream",
     "text": [
      "INFO:google.cloud.aiplatform.pipeline_jobs:Creating PipelineJob\n",
      "INFO:google.cloud.aiplatform.pipeline_jobs:PipelineJob created. Resource name: projects/444388004085/locations/us-central1/pipelineJobs/ap-dask-custom-machine-20220506043231-20220506043303\n",
      "INFO:google.cloud.aiplatform.pipeline_jobs:To use this PipelineJob in another session:\n",
      "INFO:google.cloud.aiplatform.pipeline_jobs:pipeline_job = aiplatform.PipelineJob.get('projects/444388004085/locations/us-central1/pipelineJobs/ap-dask-custom-machine-20220506043231-20220506043303')\n",
      "INFO:google.cloud.aiplatform.pipeline_jobs:View Pipeline Job:\n",
      "https://console.cloud.google.com/vertex-ai/locations/us-central1/pipelines/runs/ap-dask-custom-machine-20220506043231-20220506043303?project=444388004085\n",
      "INFO:google.cloud.aiplatform.pipeline_jobs:PipelineJob projects/444388004085/locations/us-central1/pipelineJobs/ap-dask-custom-machine-20220506043231-20220506043303 current state:\n",
      "PipelineState.PIPELINE_STATE_RUNNING\n",
      "INFO:google.cloud.aiplatform.pipeline_jobs:PipelineJob projects/444388004085/locations/us-central1/pipelineJobs/ap-dask-custom-machine-20220506043231-20220506043303 current state:\n",
      "PipelineState.PIPELINE_STATE_RUNNING\n",
      "INFO:google.cloud.aiplatform.pipeline_jobs:PipelineJob projects/444388004085/locations/us-central1/pipelineJobs/ap-dask-custom-machine-20220506043231-20220506043303 current state:\n",
      "PipelineState.PIPELINE_STATE_RUNNING\n",
      "INFO:google.cloud.aiplatform.pipeline_jobs:PipelineJob projects/444388004085/locations/us-central1/pipelineJobs/ap-dask-custom-machine-20220506043231-20220506043303 current state:\n",
      "PipelineState.PIPELINE_STATE_RUNNING\n",
      "INFO:google.cloud.aiplatform.pipeline_jobs:PipelineJob projects/444388004085/locations/us-central1/pipelineJobs/ap-dask-custom-machine-20220506043231-20220506043303 current state:\n",
      "PipelineState.PIPELINE_STATE_RUNNING\n",
      "INFO:google.cloud.aiplatform.pipeline_jobs:PipelineJob projects/444388004085/locations/us-central1/pipelineJobs/ap-dask-custom-machine-20220506043231-20220506043303 current state:\n",
      "PipelineState.PIPELINE_STATE_RUNNING\n",
      "INFO:google.cloud.aiplatform.pipeline_jobs:PipelineJob projects/444388004085/locations/us-central1/pipelineJobs/ap-dask-custom-machine-20220506043231-20220506043303 current state:\n",
      "PipelineState.PIPELINE_STATE_RUNNING\n",
      "INFO:google.cloud.aiplatform.pipeline_jobs:PipelineJob projects/444388004085/locations/us-central1/pipelineJobs/ap-dask-custom-machine-20220506043231-20220506043303 current state:\n",
      "PipelineState.PIPELINE_STATE_RUNNING\n",
      "INFO:google.cloud.aiplatform.pipeline_jobs:PipelineJob projects/444388004085/locations/us-central1/pipelineJobs/ap-dask-custom-machine-20220506043231-20220506043303 current state:\n",
      "PipelineState.PIPELINE_STATE_RUNNING\n",
      "INFO:google.cloud.aiplatform.pipeline_jobs:PipelineJob run completed. Resource name: projects/444388004085/locations/us-central1/pipelineJobs/ap-dask-custom-machine-20220506043231-20220506043303\n"
     ]
    }
   ],
   "source": [
    "# initialize Vertex AI SDK for Python\n",
    "aiplatform.init(project=PROJECT_ID, location=REGION, staging_bucket=BUCKET_URI)\n",
    "\n",
    "# define params to pass to pipeline\n",
    "pipeline_params = {\n",
    "    \"project\": PROJECT_ID,\n",
    "}\n",
    "\n",
    "# set the pipeline job\n",
    "pipeline_job = aiplatform.PipelineJob(\n",
    "    display_name=DISPLAY_NAME,\n",
    "    template_path=PIPELINE_JSON_PKG_PATH,\n",
    "    pipeline_root=BUCKET_URI,\n",
    "    parameter_values=pipeline_params,\n",
    "    enable_caching=True,\n",
    ")\n",
    "\n",
    "# run the pipeline\n",
    "pipeline_job.run()"
   ]
  },
  {
   "cell_type": "code",
   "execution_count": null,
   "id": "9f7f99a8-52a0-45d7-bbd4-d4031bfbd13d",
   "metadata": {},
   "outputs": [],
   "source": []
  }
 ],
 "metadata": {
  "environment": {
   "kernel": "python3",
   "name": "common-cpu.m91",
   "type": "gcloud",
   "uri": "gcr.io/deeplearning-platform-release/base-cpu:m91"
  },
  "kernelspec": {
   "display_name": "Python 3",
   "language": "python",
   "name": "python3"
  },
  "language_info": {
   "codemirror_mode": {
    "name": "ipython",
    "version": 3
   },
   "file_extension": ".py",
   "mimetype": "text/x-python",
   "name": "python",
   "nbconvert_exporter": "python",
   "pygments_lexer": "ipython3",
   "version": "3.7.12"
  }
 },
 "nbformat": 4,
 "nbformat_minor": 5
}
